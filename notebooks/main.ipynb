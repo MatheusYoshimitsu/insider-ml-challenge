{
 "cells": [
  {
   "cell_type": "markdown",
   "id": "ee32d07b",
   "metadata": {},
   "source": [
    "# Insider ML Engineer Challenge - Titanic Dataset"
   ]
  },
  {
   "cell_type": "markdown",
   "id": "d6cd790b",
   "metadata": {},
   "source": [
    "In this challenge, we are going to develop a full API to use it with AI.\n",
    "\n",
    "The Titanic Dataset can be found at [Kaggle](https://www.kaggle.com/competitions/titanic/data), but in this case, it is already downloaded in the [`dataset directory`](dataset), due to its small size."
   ]
  },
  {
   "cell_type": "markdown",
   "id": "8d75568f",
   "metadata": {},
   "source": [
    "## Requirements\n",
    "\n",
    "- Python 3"
   ]
  },
  {
   "cell_type": "markdown",
   "id": "471f4cc0",
   "metadata": {},
   "source": [
    "### Preparing the environment\n",
    "\n",
    "PS: The following commands may be used on a Linux terminal.\n",
    "\n",
    "First, we need to create and activate our virtual environment (venv):\n",
    "\n",
    "```bash\n",
    "python3 -m venv venv && source venv/bin/activate\n",
    "```\n",
    "\n",
    "Then, using pip, we must download the dependecies from [`requirements.txt`](requirements.txt)\n",
    "\n",
    "```bash\n",
    "pip install -r requirements.txt\n",
    "```"
   ]
  },
  {
   "cell_type": "code",
   "execution_count": null,
   "id": "a9633e59",
   "metadata": {},
   "outputs": [],
   "source": []
  }
 ],
 "metadata": {
  "kernelspec": {
   "display_name": "venv",
   "language": "python",
   "name": "python3"
  },
  "language_info": {
   "codemirror_mode": {
    "name": "ipython",
    "version": 3
   },
   "file_extension": ".py",
   "mimetype": "text/x-python",
   "name": "python",
   "nbconvert_exporter": "python",
   "pygments_lexer": "ipython3",
   "version": "3.12.3"
  }
 },
 "nbformat": 4,
 "nbformat_minor": 5
}
